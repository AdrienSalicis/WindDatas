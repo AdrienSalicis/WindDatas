{
 "cells": [
  {
   "cell_type": "markdown",
   "id": "5ac38870",
   "metadata": {},
   "source": [
    "# 📦 Section 1 – Chargement et nettoyage des données\n",
    "\n",
    "Nous chargeons ici **toutes les sources** de données pour un site :  \n",
    "- NOAA (2 stations)\n",
    "- Meteostat (2 stations)\n",
    "- ERA5\n",
    "- OpenMeteo\n",
    "- NASA POWER\n",
    "\n",
    "Toutes les vitesses sont **en m/s**. Aucune valeur aberrante n’est supprimée.\n"
   ]
  },
  {
   "cell_type": "code",
   "execution_count": null,
   "id": "423de1ef",
   "metadata": {},
   "outputs": [],
   "source": [
    "import pandas as pd\n",
    "import matplotlib.pyplot as plt\n",
    "import numpy as np\n",
    "from scipy.stats import weibull_min, genextreme\n",
    "\n",
    "# Chargement des fichiers (à adapter selon le site analysé)\n",
    "sources = {\n",
    "    \"noaa1\": \"noaa_station1_PIOLENC.csv\",\n",
    "    \"noaa2\": \"noaa_station2_PIOLENC.csv\",\n",
    "    \"meteostat1\": \"meteostat1_PIOLENC.csv\",\n",
    "    \"meteostat2\": \"meteostat2_PIOLENC.csv\",\n",
    "    \"era5\": \"era5_daily_PIOLENC.csv\",\n",
    "    \"nasa\": \"nasa_power_PIOLENC.csv\",\n",
    "    \"openmeteo\": \"openmeteo_PIOLENC.csv\"\n",
    "}\n",
    "\n",
    "dfs = {}\n",
    "for key, path in sources.items():\n",
    "    df = pd.read_csv(path, parse_dates=[\"time\"])\n",
    "    dfs[key] = df\n"
   ]
  },
  {
   "cell_type": "markdown",
   "id": "cf73e057",
   "metadata": {},
   "source": [
    "# 📊 Section 2 – Présentation des données récupérées\n",
    "\n",
    "Visualisation des **vents moyens** issus de toutes les sources.  \n",
    "Deux lignes horizontales seront ajoutées plus tard :\n",
    "- 📘 Building Code – vent moyen\n",
    "- ⚡ Building Code – vent en rafale\n"
   ]
  },
  {
   "cell_type": "code",
   "execution_count": null,
   "id": "38008b38",
   "metadata": {},
   "outputs": [],
   "source": [
    "plt.figure(figsize=(14, 7))\n",
    "for name, df in dfs.items():\n",
    "    if \"windspeed_mean\" in df.columns:\n",
    "        plt.plot(df[\"time\"], df[\"windspeed_mean\"], label=name)\n",
    "\n",
    "plt.axhline(y=999, color=\"gray\", linestyle=\"--\", label=\"BC – Vent moyen (à insérer)\")\n",
    "plt.title(\"Vent moyen – comparaison entre sources\")\n",
    "plt.xlabel(\"Date\")\n",
    "plt.ylabel(\"Vent moyen (m/s)\")\n",
    "plt.legend()\n",
    "plt.grid(True)\n",
    "plt.tight_layout()\n",
    "plt.show()\n"
   ]
  },
  {
   "cell_type": "markdown",
   "id": "04f8a409",
   "metadata": {},
   "source": [
    "# 🌀 Section 3 – Analyse des vents moyens\n",
    "\n",
    "Nous ajustons ici la **loi de Weibull** sur chaque source de vent moyen.  \n",
    "Et nous en déduisons la **valeur de retour 50 ans**.\n"
   ]
  },
  {
   "cell_type": "code",
   "execution_count": null,
   "id": "0136eaf9",
   "metadata": {},
   "outputs": [],
   "source": [
    "T = 50\n",
    "for name, df in dfs.items():\n",
    "    if \"windspeed_mean\" in df.columns:\n",
    "        data = df[\"windspeed_mean\"].dropna()\n",
    "        if len(data) > 0:\n",
    "            params = weibull_min.fit(data, floc=0)\n",
    "            v_return = weibull_min.ppf(1 - 1/T, *params)\n",
    "            print(f\"{name} → Vent moyen 50 ans : {v_return:.2f} m/s\")\n"
   ]
  },
  {
   "cell_type": "markdown",
   "id": "d9187140",
   "metadata": {},
   "source": [
    "# 🌪️ Section 4 – Analyse des vents rafales\n",
    "\n",
    "On utilise ici les colonnes `gust` ou `windspeed_gust`.  \n",
    "On ajuste une **loi GEV complète** sur chaque source, et on extrait :\n",
    "- Le paramètre \\( \\xi \\)\n",
    "- Le vent de retour 50 ans\n"
   ]
  },
  {
   "cell_type": "code",
   "execution_count": null,
   "id": "28da158e",
   "metadata": {},
   "outputs": [],
   "source": [
    "for name, df in dfs.items():\n",
    "    gust_col = None\n",
    "    for col in [\"gust\", \"windspeed_gust\"]:\n",
    "        if col in df.columns:\n",
    "            gust_col = col\n",
    "            break\n",
    "    if gust_col:\n",
    "        data = df[gust_col].dropna()\n",
    "        if len(data) > 0:\n",
    "            gev_params = genextreme.fit(data)\n",
    "            xi = gev_params[0]\n",
    "            v_return = genextreme.ppf(1 - 1/T, *gev_params)\n",
    "            print(f\"{name} → Rafale 50 ans : {v_return:.2f} m/s (ξ = {xi:.3f})\")\n"
   ]
  },
  {
   "cell_type": "markdown",
   "id": "e391c12e",
   "metadata": {},
   "source": [
    "# ✅ Section 5 – Bilan récapitulatif\n",
    "\n",
    "Nous avons :\n",
    "- Comparé visuellement toutes les sources\n",
    "- Ajusté Weibull pour les vents moyens\n",
    "- Ajusté GEV pour les rafales\n",
    "- Calculé les valeurs de retour 50 ans\n",
    "\n",
    "🔜 À venir :\n",
    "- Ajout des valeurs des Building Codes via Excel\n",
    "- Extension des rafales estimées via les vents moyens\n",
    "- Export PDF automatique du notebook complet\n"
   ]
  }
 ],
 "metadata": {},
 "nbformat": 4,
 "nbformat_minor": 5
}