{
 "cells": [
  {
   "cell_type": "markdown",
   "metadata": {},
   "source": [
    "# 📖 Analyse automatique des données du site\n",
    "Ce notebook traite **toutes les sources de données présentes dans le dossier du site**,\n",
    "en générant :\n",
    "- des **statistiques descriptives**\n",
    "- des **boxplots**\n",
    "- des **histogrammes**\n",
    "- des **courbes temporelles**\n",
    "\n",
    "⚙️ Il s'exécute automatiquement via **Papermill** avec un seul paramètre : `site_ref`."
   ]
  },
  {
   "cell_type": "code",
   "execution_count": null,
   "metadata": {
      "tags": ["parameters"]
   },
   "outputs": [],
   "source": [
    "# 📌 Paramètre Papermill\n",
    "site_ref = \"WFR001_PIOLENC\"  # Valeur par défaut pour test local"
   ]
  },
  {
   "cell_type": "code",
   "execution_count": null,
   "metadata": {},
   "outputs": [],
   "source": [
    "# 📌 Import des bibliothèques nécessaires\n",
    "import os\n",
    "import pandas as pd\n",
    "import numpy as np\n",
    "import matplotlib.pyplot as plt\n",
    "\n",
    "print(\"[✅] Bibliothèques importées.\")"
   ]
  },
  {
   "cell_type": "markdown",
   "metadata": {},
   "source": [
    "## 📦 Chargement automatique des données CSV\n",
    "Le notebook va parcourir le dossier `data/<site_ref>` et charger **tous les fichiers CSV** (hors fichiers `raw_`)."
   ]
  },
  {
   "cell_type": "code",
   "execution_count": null,
   "metadata": {},
   "outputs": [],
   "source": [
    "data_folder = f\"data/{site_ref}\"\n",
    "print(f\"[📁] Dossier analysé : {data_folder}\")\n",
    "\n",
    "available_files = [f for f in os.listdir(data_folder) if f.endswith(\".csv\") and not f.startswith(\"raw_\")]\n",
    "print(f\"[✅] Fichiers CSV détectés : {available_files}\")\n",
    "\n",
    "all_data = {}\n",
    "for filename in available_files:\n",
    "    path = os.path.join(data_folder, filename)\n",
    "    try:\n",
    "        df = pd.read_csv(path)\n",
    "        if not df.empty:\n",
    "            key = filename.replace(f\"_{site_ref}.csv\", \"\")\n",
    "            all_data[key] = df\n",
    "            print(f\"[📦] Chargé : {filename} ({len(df)} lignes)\")\n",
    "        else:\n",
    "            print(f\"[⚠️] Fichier vide ignoré : {filename}\")\n",
    "    except Exception as e:\n",
    "        print(f\"[❌] Erreur lecture {filename} : {e}\")\n",
    "\n",
    "print(\"\\n📦 Sources chargées :\", list(all_data.keys()))"
   ]
  },
  {
   "cell_type": "markdown",
   "metadata": {},
   "source": [
    "## 📊 Statistiques descriptives\n",
    "Calcul des indicateurs statistiques principaux pour toutes les sources chargées.\n",
    "Le résultat est sauvegardé dans `tables/`."
   ]
  },
  {
   "cell_type": "code",
   "execution_count": null,
   "metadata": {},
   "outputs": [],
   "source": [
    "stats_list = []\n",
    "\n",
    "for source, df in all_data.items():\n",
    "    for col in df.columns:\n",
    "        if 'wind' in col and df[col].dtype in [np.float64, np.float32, np.int64]:\n",
    "            series = df[col].dropna()\n",
    "            if not series.empty:\n",
    "                stats_list.append({\n",
    "                    \"Source\": source,\n",
    "                    \"Variable\": col,\n",
    "                    \"Count\": series.count(),\n",
    "                    \"Mean\": series.mean(),\n",
    "                    \"Std\": series.std(),\n",
    "                    \"Min\": series.min(),\n",
    "                    \"Max\": series.max(),\n",
    "                    \"25%\": series.quantile(0.25),\n",
    "                    \"50%\": series.quantile(0.50),\n",
    "                    \"75%\": series.quantile(0.75)\n",
    "                })\n",
    "\n",
    "if stats_list:\n",
    "    stats_df = pd.DataFrame(stats_list)\n",
    "    display(stats_df.style.background_gradient(cmap='Blues'))\n",
    "\n",
    "    # 📌 Sauvegarde CSV\n",
    "    tables_dir = os.path.join(data_folder, \"tables\")\n",
    "    os.makedirs(tables_dir, exist_ok=True)\n",
    "    stats_path = os.path.join(tables_dir, f\"stats_descriptives_{site_ref}.csv\")\n",
    "    stats_df.to_csv(stats_path, index=False)\n",
    "    print(f\"[💾] Statistiques sauvegardées : {stats_path}\")\n",
    "else:\n",
    "    print(\"[⚠️] Aucune statistique calculable.\")"
   ]
  },
  {
   "cell_type": "markdown",
   "metadata": {},
   "source": [
    "## 📈 Visualisations automatiques\n",
    "Création des **boxplots**, **histogrammes** et **courbes temporelles** pour chaque source.\n",
    "Les images sont sauvegardées dans `figures/`."
   ]
  },
  {
   "cell_type": "code",
   "execution_count": null,
   "metadata": {},
   "outputs": [],
   "source": [
    "figures_dir = os.path.join(data_folder, \"figures\")\n",
    "os.makedirs(figures_dir, exist_ok=True)\n",
    "\n",
    "for source, df in all_data.items():\n",
    "    print(f\"\\n📈 Traitement des graphes pour : {source}\")\n",
    "\n",
    "    wind_cols = [c for c in df.columns if 'wind' in c]\n",
    "\n",
    "    if wind_cols:\n",
    "        # Boxplot\n",
    "        plt.figure(figsize=(10, 6))\n",
    "        df[wind_cols].boxplot()\n",
    "        plt.title(f\"Boxplot - {source}\", fontsize=14)\n",
    "        plt.ylabel(\"Vitesse du vent (m/s)\", fontsize=12)\n",
    "        plt.xticks(rotation=45)\n",
    "        plt.grid()\n",
    "        path_plot = os.path.join(figures_dir, f\"boxplot_{source}.png\")\n",
    "        plt.savefig(path_plot, bbox_inches='tight')\n",
    "        plt.close()\n",
    "        print(f\"[✅] Boxplot sauvegardé : {path_plot}\")\n",
    "\n",
    "        # Histogrammes\n",
    "        for col in wind_cols:\n",
    "            plt.figure(figsize=(10, 6))\n",
    "            df[col].hist(bins=30, color='steelblue', edgecolor='black')\n",
    "            plt.title(f\"Histogramme - {source} - {col}\", fontsize=14)\n",
    "            plt.xlabel(\"Valeur\", fontsize=12)\n",
    "            plt.ylabel(\"Fréquence\", fontsize=12)\n",
    "            plt.grid()\n",
    "            path_hist = os.path.join(figures_dir, f\"hist_{col}_{source}.png\")\n",
    "            plt.savefig(path_hist, bbox_inches='tight')\n",
    "            plt.close()\n",
    "            print(f\"[✅] Histogramme sauvegardé : {path_hist}\")\n",
    "\n",
    "        # Séries temporelles\n",
    "        if \"date\" in df.columns:\n",
    "            for col in wind_cols:\n",
    "                plt.figure(figsize=(12, 6))\n",
    "                plt.plot(pd.to_datetime(df['date']), df[col], color='darkorange')\n",
    "                plt.title(f\"Série temporelle - {source} - {col}\", fontsize=14)\n",
    "                plt.xlabel(\"Date\", fontsize=12)\n",
    "                plt.ylabel(col, fontsize=12)\n",
    "                plt.grid()\n",
    "                path_ts = os.path.join(figures_dir, f\"timeseries_{col}_{source}.png\")\n",
    "                plt.savefig(path_ts, bbox_inches='tight')\n",
    "                plt.close()\n",
    "                print(f\"[✅] Série temporelle sauvegardée : {path_ts}\")"
   ]
  },
  {
   "cell_type": "markdown",
   "metadata": {},
   "source": [
    "## ✅ Fin du traitement\n",
    "Toutes les statistiques et graphes ont été générés et sauvegardés dans les sous-dossiers appropriés du site.\n",
    "\n",
    "- 📂 **tables/** pour les statistiques descriptives (CSV)\n",
    "- 📂 **figures/** pour toutes les images générées (PNG)\n",
    "\n",
    "Ce notebook peut être exécuté automatiquement via **Papermill** dans votre pipeline."
   ]
  }
 ],
 "metadata": {
  "kernelspec": {
   "display_name": "Python 3",
   "language": "python",
   "name": "python3"
  },
  "language_info": {
   "name": "python",
   "version": "3.x"
  }
 },
 "nbformat": 4,
 "nbformat_minor": 5
}
