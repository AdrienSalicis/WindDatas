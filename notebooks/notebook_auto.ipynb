{
 "cells": [
  {
   "cell_type": "markdown",
   "metadata": {},
   "source": [
    "# notebook_auto.ipynb\n",
    "#### Analyse automatisée des vents par site\n",
    "Paramétré pour Papermill : prend **site_ref** et génère figures + tables"
   ]
  },
  {
   "cell_type": "code",
   "execution_count": null,
   "metadata": {
    "tags": [
     "parameters"
    ]
   },
   "outputs": [],
   "source": [
    "# Parameters\n",
    "site_ref = \"DEFAULT_SITE\""
   ]
  },
  {
   "cell_type": "code",
   "execution_count": null,
   "metadata": {},
   "outputs": [],
   "source": [
    "import os\n",
    "import pandas as pd\n",
    "import numpy as np\n",
    "import matplotlib.pyplot as plt\n",
    "import seaborn as sns\n",
    "from scipy.stats import weibull_min, gumbel_r\n",
    "\n",
    "sns.set(style=\"whitegrid\")\n",
    "\n",
    "base_dir = f\"data/{site_ref}\"\n",
    "figures_dir = os.path.join(base_dir, \"figures\")\n",
    "tables_dir = os.path.join(base_dir, \"tables\")\n",
    "\n",
    "os.makedirs(figures_dir, exist_ok=True)\n",
    "os.makedirs(tables_dir, exist_ok=True)\n",
    "\n",
    "print(f\"[✅] Notebook auto v2 démarré pour : {site_ref}\")\n"
   ]
  },
  {
   "cell_type": "code",
   "execution_count": null,
   "metadata": {},
   "outputs": [],
   "source": [
    "all_dfs = {}\n",
    "for file in os.listdir(base_dir):\n",
    "    if file.endswith('.csv') and (\n",
    "        'station' in file or \n",
    "        'openmeteo' in file or \n",
    "        'era5' in file or \n",
    "        'nasa_power' in file\n",
    "    ):\n",
    "        path = os.path.join(base_dir, file)\n",
    "        try:\n",
    "            df = pd.read_csv(path, parse_dates=['date'])\n",
    "            all_dfs[file.replace('.csv','')] = df\n",
    "            print(f\"[✅] Chargé : {file} ({df.shape[0]} lignes)\")\n",
    "        except Exception as e:\n",
    "            print(f\"[⚠️] Erreur chargement {file} : {e}\")\n",
    "\n",
    "if not all_dfs:\n",
    "    raise Exception(\"[❌] Aucun CSV trouvé pour ce site.\")\n"
   ]
  },
  {
   "cell_type": "code",
   "execution_count": null,
   "metadata": {},
   "outputs": [],
   "source": [
    "stat_results = []\n",
    "for name, df in all_dfs.items():\n",
    "    for var in ['windspeed_mean', 'windspeed_gust']:\n",
    "        if var in df.columns:\n",
    "            series = df[var].dropna()\n",
    "            if not series.empty:\n",
    "                stats = {\n",
    "                    'Source': name,\n",
    "                    'Variable': var,\n",
    "                    'Count': len(series),\n",
    "                    'Mean': series.mean(),\n",
    "                    'Std': series.std(),\n",
    "                    'Min': series.min(),\n",
    "                    'Max': series.max(),\n",
    "                    '25%': series.quantile(0.25),\n",
    "                    '50%': series.quantile(0.5),\n",
    "                    '75%': series.quantile(0.75)\n",
    "                }\n",
    "                stat_results.append(stats)\n",
    "\n",
    "df_stats = pd.DataFrame(stat_results)\n",
    "df_stats.to_csv(f\"{tables_dir}/stats_descriptives_{site_ref}.csv\", index=False)\n",
    "df_stats\n"
   ]
  },
  {
   "cell_type": "code",
   "execution_count": null,
   "metadata": {},
   "outputs": [],
   "source": [
    "for var in ['windspeed_mean', 'windspeed_gust']:\n",
    "    plt.figure(figsize=(10, 6))\n",
    "    for name, df in all_dfs.items():\n",
    "        if var in df.columns:\n",
    "            sns.histplot(df[var].dropna(), label=name, kde=True, bins=30, alpha=0.6)\n",
    "    plt.title(f\"Histogramme - {var.replace('_',' ').capitalize()} par Source\")\n",
    "    plt.xlabel(\"Vitesse (m/s)\")\n",
    "    plt.ylabel(\"Occurrences\")\n",
    "    plt.legend()\n",
    "    plt.tight_layout()\n",
    "    plt.savefig(f\"{figures_dir}/hist_{var}_{site_ref}.png\")\n",
    "    plt.close()\n"
   ]
  },
  {
   "cell_type": "code",
   "execution_count": null,
   "metadata": {},
   "outputs": [],
   "source": [
    "for var in ['windspeed_mean', 'windspeed_gust']:\n",
    "    combined = []\n",
    "    for name, df in all_dfs.items():\n",
    "        if var in df.columns:\n",
    "            for val in df[var].dropna():\n",
    "                combined.append({'Source': name, var: val})\n",
    "\n",
    "    if combined:\n",
    "        df_combined = pd.DataFrame(combined)\n",
    "        plt.figure(figsize=(12, 6))\n",
    "        sns.boxplot(data=df_combined, x='Source', y=var)\n",
    "        plt.title(f\"Boxplot - {var.replace('_',' ').capitalize()} par Source\")\n",
    "        plt.xticks(rotation=45)\n",
    "        plt.tight_layout()\n",
    "        plt.savefig(f\"{figures_dir}/boxplot_{var}_{site_ref}.png\")\n",
    "        plt.close()\n"
   ]
  },
  {
   "cell_type": "code",
   "execution_count": null,
   "metadata": {},
   "outputs": [],
   "source": [
    "import matplotlib.cm as cm\n",
    "import matplotlib.colors as mcolors\n",
    "\n",
    "def plot_wind_rose(df, name, site_ref, var='windspeed_mean'):\n",
    "    if 'wind_direction' in df.columns and var in df.columns:\n",
    "        direction = df['wind_direction'].dropna()\n",
    "        speed = df[var].dropna()\n",
    "        if not direction.empty and not speed.empty:\n",
    "            df_rose = pd.DataFrame({'direction': direction, 'speed': speed})\n",
    "            df_rose['dir_bin'] = (df_rose['direction'] // 30) * 30\n",
    "\n",
    "            rose_data = df_rose.groupby('dir_bin')['speed'].mean()\n",
    "\n",
    "            angles = np.deg2rad(rose_data.index.tolist() + [rose_data.index[0]])\n",
    "            values = rose_data.tolist() + [rose_data.tolist()[0]]\n",
    "\n",
    "            fig, ax = plt.subplots(subplot_kw={'projection': 'polar'}, figsize=(8,8))\n",
    "            ax.plot(angles, values, 'o-', linewidth=2)\n",
    "            ax.fill(angles, values, alpha=0.25)\n",
    "            ax.set_theta_zero_location('N')\n",
    "            ax.set_theta_direction(-1)\n",
    "            ax.set_xticks(np.deg2rad(np.arange(0, 360, 30)))\n",
    "            ax.set_title(f\"Rose des vents (radar) - {name} - {var}\")\n",
    "            plt.tight_layout()\n",
    "            plt.savefig(f\"{figures_dir}/rose_radar_{var}_{site_ref}_{name}.png\")\n",
    "            plt.close()\n",
    "\n",
    "for name, df in all_dfs.items():\n",
    "    for var in ['windspeed_mean', 'windspeed_gust']:\n",
    "        plot_wind_rose(df, name, site_ref, var)\n"
   ]
  },
  {
   "cell_type": "code",
   "execution_count": null,
   "metadata": {},
   "outputs": [],
   "source": [
    "for var in ['windspeed_mean', 'windspeed_gust']:\n",
    "    plt.figure(figsize=(14, 7))\n",
    "    for name, df in all_dfs.items():\n",
    "        if var in df.columns and 'date' in df.columns:\n",
    "            plt.plot(df['date'], df[var], label=name, alpha=0.8)\n",
    "    plt.title(f\"Comparaison temporelle - {var.replace('_',' ').capitalize()}\")\n",
    "    plt.xlabel(\"Date\")\n",
    "    plt.ylabel(\"Vitesse (m/s)\")\n",
    "    plt.legend()\n",
    "    plt.tight_layout()\n",
    "    plt.savefig(f\"{figures_dir}/courbe_temporelle_{var}_{site_ref}.png\")\n",
    "    plt.close()\n"
   ]
  },
  {
   "cell_type": "code",
   "execution_count": null,
   "metadata": {},
   "outputs": [],
   "source": [
    "for name, df in all_dfs.items():\n",
    "    for var in ['windspeed_mean', 'windspeed_gust']:\n",
    "        if var in df.columns:\n",
    "            data = df[var].dropna()\n",
    "            if len(data) > 0:\n",
    "                x = np.linspace(data.min(), data.max(), 100)\n",
    "\n",
    "                # Ajustement Weibull\n",
    "                try:\n",
    "                    plt.figure(figsize=(10, 6))\n",
    "                    c, loc, scale = weibull_min.fit(data, floc=0)\n",
    "                    sns.histplot(data, bins=30, kde=False, stat='density', label='Données', color='gray', alpha=0.6)\n",
    "                    plt.plot(x, weibull_min.pdf(x, c, loc=loc, scale=scale), 'r-', label=f'Weibull Fit\\nc={c:.2f}')\n",
    "                    plt.title(f\"Ajustement Weibull - {name} - {var}\")\n",
    "                    plt.xlabel(\"Vitesse (m/s)\")\n",
    "                    plt.ylabel(\"Densité\")\n",
    "                    plt.legend()\n",
    "                    plt.tight_layout()\n",
    "                    plt.savefig(f\"{figures_dir}/weibull_{var}_{name}_{site_ref}.png\")\n",
    "                    plt.close()\n",
    "                except Exception as e:\n",
    "                    print(f\"[Erreur Weibull : {name} {var} : {e}]\")\n",
    "\n",
    "                # Ajustement Gumbel\n",
    "                try:\n",
    "                    plt.figure(figsize=(10, 6))\n",
    "                    loc, scale = gumbel_r.fit(data)\n",
    "                    sns.histplot(data, bins=30, kde=False, stat='density', label='Données', color='gray', alpha=0.6)\n",
    "                    plt.plot(x, gumbel_r.pdf(x, loc=loc, scale=scale), 'g-', label='Gumbel Fit')\n",
    "                    plt.title(f\"Ajustement Gumbel - {name} - {var}\")\n",
    "                    plt.xlabel(\"Vitesse (m/s)\")\n",
    "                    plt.ylabel(\"Densité\")\n",
    "                    plt.legend()\n",
    "                    plt.tight_layout()\n",
    "                    plt.savefig(f\"{figures_dir}/gumbel_{var}_{name}_{site_ref}.png\")\n",
    "                    plt.close()\n",
    "                except Exception as e:\n",
    "                    print(f\"[Erreur Gumbel : {name} {var} : {e}]\")\n"
   ]
  }
 ],
 "metadata": {
  "kernelspec": {
   "display_name": "Python 3",
   "language": "python",
   "name": "python3"
  },
  "language_info": {
   "name": "python",
   "version": "3.x"
  }
 },
 "nbformat": 4,
 "nbformat_minor": 5
}
