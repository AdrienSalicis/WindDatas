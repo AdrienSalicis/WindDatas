{
 "cells": [
  {
   "cell_type": "markdown",
   "metadata": {},
   "source": [
    "# notebook_auto.ipynb\n",
    "#### Analyse automatisée des vents par site\n",
    "Paramétré pour Papermill : prend **site_ref** et génère figures + tables"
   ]
  },
  {
   "cell_type": "code",
   "execution_count": null,
   "metadata": {
    "tags": [
     "parameters"
    ]
   },
   "outputs": [],
   "source": [
    "# 📌 Paramètre Papermill\n",
    "site_ref = \"WFR001_PIOLENC\"  # Valeur par défaut pour test"
   ]
  },
  {
   "cell_type": "code",
   "execution_count": null,
   "id": "e042c7ed",
   "metadata": {},
   "outputs": [],
   "source": [
    "# 📌 Import des bibliothèques\n",
    "import os\n",
    "import pandas as pd\n",
    "import numpy as np\n",
    "import matplotlib.pyplot as plt\n",
    "\n",
    "print(\"[✅] Bibliothèques importées.\")\n"
   ]
  },
  {
   "cell_type": "markdown",
   "id": "4376d84a",
   "metadata": {},
   "source": [
    "# 📖 Introduction\n",
    "Ce notebook s'exécute automatiquement pour un site donné (`site_ref`).\n",
    "- Il scanne le dossier data/<site_ref>\n",
    "- Charge tous les fichiers CSV (hors fichiers raw_)\n",
    "- Calcule les statistiques descriptives\n",
    "- Génère et sauvegarde les graphiques (boxplots, histogrammes, séries temporelles)\n"
   ]
  },
  {
   "cell_type": "code",
   "execution_count": null,
   "id": "d32ca064",
   "metadata": {},
   "outputs": [],
   "source": [
    "# 📌 Scan et chargement des fichiers CSV\n",
    "data_folder = f\"data/{site_ref}\"\n",
    "print(f\"[📁] Dossier analysé : {data_folder}\")\n",
    "\n",
    "available_files = [f for f in os.listdir(data_folder) if f.endswith(\".csv\") and not f.startswith(\"raw_\")]\n",
    "print(f\"[✅] Fichiers CSV détectés : {available_files}\")\n",
    "\n",
    "all_data = {}\n",
    "for filename in available_files:\n",
    "    path = os.path.join(data_folder, filename)\n",
    "    try:\n",
    "        df = pd.read_csv(path)\n",
    "        if not df.empty:\n",
    "            key = filename.replace(f\"_{site_ref}.csv\", \"\")\n",
    "            all_data[key] = df\n",
    "            print(f\"[📦] Chargé : {filename} ({len(df)} lignes)\")\n",
    "        else:\n",
    "            print(f\"[⚠️] Fichier vide ignoré : {filename}\")\n",
    "    except Exception as e:\n",
    "        print(f\"[❌] Erreur lecture {filename} : {e}\")\n",
    "\n",
    "print(\"\\n📦 Sources chargées :\", list(all_data.keys()))\n"
   ]
  },
  {
   "cell_type": "code",
   "execution_count": null,
   "id": "413808a1",
   "metadata": {},
   "outputs": [],
   "source": [
    "# 📌 Statistiques descriptives\n",
    "stats_list = []\n",
    "\n",
    "for source, df in all_data.items():\n",
    "    for col in df.columns:\n",
    "        if 'wind' in col and df[col].dtype in [np.float64, np.float32, np.int64]:\n",
    "            series = df[col].dropna()\n",
    "            if not series.empty:\n",
    "                stats_list.append({\n",
    "                    \"Source\": source,\n",
    "                    \"Variable\": col,\n",
    "                    \"Count\": series.count(),\n",
    "                    \"Mean\": series.mean(),\n",
    "                    \"Std\": series.std(),\n",
    "                    \"Min\": series.min(),\n",
    "                    \"Max\": series.max(),\n",
    "                    \"25%\": series.quantile(0.25),\n",
    "                    \"50%\": series.quantile(0.50),\n",
    "                    \"75%\": series.quantile(0.75)\n",
    "                })\n",
    "\n",
    "if stats_list:\n",
    "    stats_df = pd.DataFrame(stats_list)\n",
    "    display(stats_df)\n",
    "\n",
    "    # 📌 Sauvegarde\n",
    "    tables_dir = os.path.join(data_folder, \"tables\")\n",
    "    os.makedirs(tables_dir, exist_ok=True)\n",
    "    stats_path = os.path.join(tables_dir, f\"stats_descriptives_{site_ref}.csv\")\n",
    "    stats_df.to_csv(stats_path, index=False)\n",
    "    print(f\"[💾] Stats sauvegardées → {stats_path}\")\n",
    "else:\n",
    "    print(\"[⚠️] Aucune statistique calculable.\")\n"
   ]
  },
  {
   "cell_type": "code",
   "execution_count": null,
   "id": "c10cf8b7",
   "metadata": {},
   "outputs": [],
   "source": [
    "# 📌 Graphiques automatiques\n",
    "figures_dir = os.path.join(data_folder, \"figures\")\n",
    "os.makedirs(figures_dir, exist_ok=True)\n",
    "\n",
    "for source, df in all_data.items():\n",
    "    print(f\"\\n📈 Traitement : {source}\")\n",
    "\n",
    "    wind_cols = [c for c in df.columns if 'wind' in c]\n",
    "\n",
    "    if wind_cols:\n",
    "        # Boxplot\n",
    "        plt.figure(figsize=(8, 5))\n",
    "        df[wind_cols].boxplot()\n",
    "        plt.title(f\"Boxplot - {source}\")\n",
    "        plt.ylabel(\"Vitesse du vent (m/s)\")\n",
    "        plt.xticks(rotation=45)\n",
    "        plt.grid()\n",
    "        path_plot = os.path.join(figures_dir, f\"boxplot_{source}.png\")\n",
    "        plt.savefig(path_plot)\n",
    "        plt.close()\n",
    "        print(f\"[✅] Boxplot sauvegardé : {path_plot}\")\n",
    "\n",
    "        # Histogrammes\n",
    "        for col in wind_cols:\n",
    "            plt.figure(figsize=(8, 5))\n",
    "            df[col].hist(bins=30)\n",
    "            plt.title(f\"Histogramme - {source} - {col}\")\n",
    "            plt.xlabel(\"Valeur\")\n",
    "            plt.ylabel(\"Fréquence\")\n",
    "            plt.grid()\n",
    "            path_hist = os.path.join(figures_dir, f\"hist_{col}_{source}.png\")\n",
    "            plt.savefig(path_hist)\n",
    "            plt.close()\n",
    "            print(f\"[✅] Histogramme sauvegardé : {path_hist}\")\n",
    "\n",
    "        # Séries temporelles\n",
    "        if \"date\" in df.columns:\n",
    "            for col in wind_cols:\n",
    "                plt.figure(figsize=(12, 5))\n",
    "                plt.plot(pd.to_datetime(df['date']), df[col])\n",
    "                plt.title(f\"Série temporelle - {source} - {col}\")\n",
    "                plt.xlabel(\"Date\")\n",
    "                plt.ylabel(col)\n",
    "                plt.grid()\n",
    "                path_ts = os.path.join(figures_dir, f\"timeseries_{col}_{source}.png\")\n",
    "                plt.savefig(path_ts)\n",
    "                plt.close()\n",
    "                print(f\"[✅] Série temporelle sauvegardée : {path_ts}\")\n"
   ]
  }
 ],
 "metadata": {
  "kernelspec": {
   "display_name": "Python 3",
   "language": "python",
   "name": "python3"
  },
  "language_info": {
   "name": "python",
   "version": "3.x"
  }
 },
 "nbformat": 4,
 "nbformat_minor": 5
}
