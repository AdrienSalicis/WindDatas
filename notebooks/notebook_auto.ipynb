{
 "cells": [
  {
   "cell_type": "markdown",
   "metadata": {},
   "source": [
    "# notebook_auto.ipynb",
    "#### Analyse automatisée des vents par site",
    "Paramétré pour Papermill : prend **site_ref** et génère figures + tables"
   ]
  },
  {
   "cell_type": "code",
   "metadata": {
    "tags": [
     "parameters"
    ]
   },
   "source": [
    "# Parameters\n",
    "site_ref = \"DEFAULT_SITE\""
   ],
   "execution_count": null,
   "outputs": []
  },
  {
   "cell_type": "code",
   "metadata": {},
   "source": [
    "import os\n",
    "import pandas as pd\n",
    "import numpy as np\n",
    "import matplotlib.pyplot as plt\n",
    "import seaborn as sns\n",
    "from scipy.stats import weibull_min, gumbel_r\n",
    "\n",
    "sns.set(style=\"whitegrid\")\n",
    "\n",
    "base_dir = f\"data/{site_ref}\"\n",
    "figures_dir = os.path.join(base_dir, \"figures\")\n",
    "tables_dir = os.path.join(base_dir, \"tables\")\n",
    "\n",
    "os.makedirs(figures_dir, exist_ok=True)\n",
    "os.makedirs(tables_dir, exist_ok=True)\n",
    "\n",
    "print(f\"[Site chargé : {site_ref}]\")"
   ],
   "execution_count": null,
   "outputs": []
  },
  {
   "cell_type": "code",
   "metadata": {},
   "source": [
    "all_dfs = {}\n",
    "for file in os.listdir(base_dir):\n",
    "    if file.endswith('.csv') and ('station' in file or 'openmeteo' in file or 'era5' in file or 'nasa_power' in file):\n",
    "        path = os.path.join(base_dir, file)\n",
    "        try:\n",
    "            df = pd.read_csv(path, parse_dates=['date'])\n",
    "            all_dfs[file.replace('.csv','')] = df\n",
    "            print(f\"[Données chargées : {file} ({df.shape[0]} lignes)]\")\n",
    "        except Exception as e:\n",
    "            print(f\"[Erreur : {file} : {e}]\")\n",
    "\n",
    "if not all_dfs:\n",
    "    raise Exception(\"[❌] Aucun CSV trouvé!\")"
   ],
   "execution_count": null,
   "outputs": []
  },
  {
   "cell_type": "code",
   "metadata": {},
   "source": [
    "stat_results = []\n",
    "for name, df in all_dfs.items():\n",
    "    for var in ['windspeed_mean', 'windspeed_gust']:\n",
    "        if var in df.columns:\n",
    "            series = df[var].dropna()\n",
    "            if not series.empty:\n",
    "                stats = {\n",
    "                    'Source': name,\n",
    "                    'Variable': var,\n",
    "                    'Count': len(series),\n",
    "                    'Mean': series.mean(),\n",
    "                    'Std': series.std(),\n",
    "                    'Min': series.min(),\n",
    "                    'Max': series.max(),\n",
    "                    '25%': series.quantile(0.25),\n",
    "                    '50%': series.quantile(0.5),\n",
    "                    '75%': series.quantile(0.75)\n",
    "                }\n",
    "                stat_results.append(stats)\n",
    "\n",
    "df_stats = pd.DataFrame(stat_results)\n",
    "df_stats.to_csv(f\"{tables_dir}/stats_descriptives_{site_ref}.csv\", index=False)\n",
    "df_stats"
   ],
   "execution_count": null,
   "outputs": []
  },
  {
   "cell_type": "code",
   "metadata": {},
   "source": [
    "for var in ['windspeed_mean', 'windspeed_gust']:\n",
    "    plt.figure(figsize=(8,6))\n",
    "    for name, df in all_dfs.items():\n",
    "        if var in df.columns:\n",
    "            sns.histplot(df[var].dropna(), label=name, kde=True, bins=30, alpha=0.6)\n",
    "    plt.title(f\"Histogramme {var.replace('_',' ')}\")\n",
    "    plt.legend()\n",
    "    plt.tight_layout()\n",
    "    plt.savefig(f\"{figures_dir}/hist_{var}_{site_ref}.png\")\n",
    "    plt.close()"
   ],
   "execution_count": null,
   "outputs": []
  },
  {
   "cell_type": "code",
   "metadata": {},
   "source": [
    "combined = []\n",
    "for name, df in all_dfs.items():\n",
    "    if 'windspeed_mean' in df.columns:\n",
    "        for val in df['windspeed_mean'].dropna():\n",
    "            combined.append({'Source': name, 'windspeed_mean': val})\n",
    "\n",
    "if combined:\n",
    "    df_combined = pd.DataFrame(combined)\n",
    "    plt.figure(figsize=(10,6))\n",
    "    sns.boxplot(data=df_combined, x='Source', y='windspeed_mean')\n",
    "    plt.title(\"Boxplot des vitesses moyennes\")\n",
    "    plt.xticks(rotation=45)\n",
    "    plt.tight_layout()\n",
    "    plt.savefig(f\"{figures_dir}/boxplot_wind_speed_{site_ref}.png\")\n",
    "    plt.close()"
   ],
   "execution_count": null,
   "outputs": []
  },
  {
   "cell_type": "code",
   "metadata": {},
   "source": [
    "for name, df in all_dfs.items():\n",
    "    if 'wind_direction' in df.columns:\n",
    "        plt.figure(figsize=(6,6))\n",
    "        plt.hist(df['wind_direction'].dropna(), bins=36, range=(0,360), color='skyblue')\n",
    "        plt.title(f\"Rose des vents - {name}\")\n",
    "        plt.xlabel('Direction (°)')\n",
    "        plt.ylabel('Observations')\n",
    "        plt.tight_layout()\n",
    "        plt.savefig(f\"{figures_dir}/rose_wind_direction_{site_ref}_{name}.png\")\n",
    "        plt.close()"
   ],
   "execution_count": null,
   "outputs": []
  },
  {
   "cell_type": "code",
   "metadata": {},
   "source": [
    "plt.figure(figsize=(12,6))\n",
    "for name, df in all_dfs.items():\n",
    "    if 'windspeed_mean' in df.columns:\n",
    "        plt.plot(df['date'], df['windspeed_mean'], label=name, alpha=0.7)\n",
    "plt.legend()\n",
    "plt.title(\"Comparaison des vitesses moyennes par source\")\n",
    "plt.xlabel(\"Date\")\n",
    "plt.ylabel(\"Vitesse (m/s)\")\n",
    "plt.tight_layout()\n",
    "plt.savefig(f\"{figures_dir}/compare_sources_{site_ref}.png\")\n",
    "plt.close()"
   ],
   "execution_count": null,
   "outputs": []
  },
  {
   "cell_type": "code",
   "metadata": {},
   "source": [
    "for name, df in all_dfs.items():\n",
    "    for var in ['windspeed_mean', 'windspeed_gust']:\n",
    "        if var in df.columns:\n",
    "            data = df[var].dropna()\n",
    "            if len(data) > 0:\n",
    "                x = np.linspace(data.min(), data.max(), 100)\n",
    "\n",
    "                # Weibull\n",
    "                try:\n",
    "                    plt.figure(figsize=(8,6))\n",
    "                    c, loc, scale = weibull_min.fit(data, floc=0)\n",
    "                    sns.histplot(data, bins=30, kde=False, stat='density', label='Data', color='gray', alpha=0.6)\n",
    "                    plt.plot(x, weibull_min.pdf(x, c, loc=loc, scale=scale), 'r-', label=f'Weibull Fit\\nc={c:.2f}')\n",
    "                    plt.title(f\"Weibull - {name} - {var}\")\n",
    "                    plt.legend()\n",
    "                    plt.tight_layout()\n",
    "                    plt.savefig(f\"{figures_dir}/weibull_{var}_{name}_{site_ref}.png\")\n",
    "                    plt.close()\n",
    "                except Exception as e:\n",
    "                    print(f\"[Weibull fit failed for {name} {var}: {e}]\")\n",
    "\n",
    "                # Gumbel\n",
    "                try:\n",
    "                    plt.figure(figsize=(8,6))\n",
    "                    loc, scale = gumbel_r.fit(data)\n",
    "                    sns.histplot(data, bins=30, kde=False, stat='density', label='Data', color='gray', alpha=0.6)\n",
    "                    plt.plot(x, gumbel_r.pdf(x, loc=loc, scale=scale), 'g-', label=f'Gumbel Fit')\n",
    "                    plt.title(f\"Gumbel - {name} - {var}\")\n",
    "                    plt.legend()\n",
    "                    plt.tight_layout()\n",
    "                    plt.savefig(f\"{figures_dir}/gumbel_{var}_{name}_{site_ref}.png\")\n",
    "                    plt.close()\n",
    "                except Exception as e:\n",
    "                    print(f\"[Gumbel fit failed for {name} {var}: {e}]\")"
   ],
   "execution_count": null,
   "outputs": []
  }
 ],
 "metadata": {
  "kernelspec": {
   "display_name": "Python 3",
   "language": "python",
   "name": "python3"
  },
  "language_info": {
   "name": "python",
   "version": "3.x"
  }
 },
 "nbformat": 4,
 "nbformat_minor": 5
}
